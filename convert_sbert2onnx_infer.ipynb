{
 "cells": [
  {
   "cell_type": "code",
   "execution_count": 2,
   "metadata": {},
   "outputs": [],
   "source": [
    "from optimum.onnxruntime import ORTModelForFeatureExtraction\n",
    "from transformers import AutoTokenizer\n",
    "from transformers import Pipeline\n",
    "import torch.nn.functional as F\n",
    "import torch\n",
    "import numpy as np\n",
    "from sentence_transformers import SentenceTransformer\n",
    "import json\n",
    "import time\n",
    "from tqdm import tqdm\n",
    "from pathlib import Path\n",
    "from typing import List"
   ]
  },
  {
   "cell_type": "code",
   "execution_count": null,
   "metadata": {},
   "outputs": [],
   "source": [
    "onnx_path = Path(\"bge_chinese_large_v1d5_finetune_240129v2_onnx/\")"
   ]
  },
  {
   "cell_type": "code",
   "execution_count": null,
   "metadata": {},
   "outputs": [],
   "source": [
    "# load optimized model\n",
    "model = ORTModelForFeatureExtraction.from_pretrained(\n",
    "    onnx_path, file_name=\"model_optimized.onnx\", provider=\"CUDAExecutionProvider\"\n",
    ")\n",
    "tokenizer = AutoTokenizer.from_pretrained(onnx_path)"
   ]
  },
  {
   "cell_type": "code",
   "execution_count": null,
   "metadata": {},
   "outputs": [],
   "source": [
    "model_id = \"bge_chinese_large_v1d5_finetune_240129v2\"\n",
    "sbertmodel = SentenceTransformer(model_id)"
   ]
  },
  {
   "cell_type": "code",
   "execution_count": null,
   "metadata": {},
   "outputs": [],
   "source": [
    "sbertoutput = sbertmodel.encode(\"你是谁\", normalize_embeddings=True)\n",
    "sbertoutput"
   ]
  },
  {
   "cell_type": "code",
   "execution_count": null,
   "metadata": {},
   "outputs": [],
   "source": [
    "def embd_func(\n",
    "    model,\n",
    "    tokenizer,\n",
    "    inputs: List[str],\n",
    "    normalize_embeddings: bool = True,\n",
    "    max_length: int = 512,\n",
    ") -> np.ndarray:\n",
    "    encoded_inputs = tokenizer(\n",
    "        inputs,\n",
    "        padding=True,\n",
    "        truncation=True,\n",
    "        return_tensors=\"pt\",\n",
    "        max_length=max_length,\n",
    "    )\n",
    "    outputs = model(**encoded_inputs)\n",
    "\n",
    "    embedding_value = outputs.last_hidden_state[:, 0]\n",
    "    if normalize_embeddings:\n",
    "        # Normalize embeddings\n",
    "        sentence_embeddings = F.normalize(embedding_value, p=2, dim=1)\n",
    "\n",
    "    sentence_embeddings = sentence_embeddings.cpu().numpy()\n",
    "    return sentence_embeddings\n",
    "\n",
    "\n",
    "onnx_test = embd_func(model, tokenizer, [\"你是谁\", \"你是谁1\"])\n",
    "onnx_test.shape"
   ]
  },
  {
   "cell_type": "code",
   "execution_count": 3,
   "metadata": {},
   "outputs": [
    {
     "data": {
      "text/plain": [
       "26988"
      ]
     },
     "execution_count": 3,
     "metadata": {},
     "output_type": "execute_result"
    }
   ],
   "source": [
    "with open(\"gptdataset/0.json\", encoding=\"utf-8\", mode=\"r\") as fin:\n",
    "    alldata = [json.loads(i) for i in fin.readlines()]\n",
    "\n",
    "allquery = [i[\"query\"] for i in alldata]\n",
    "len(allquery)"
   ]
  },
  {
   "cell_type": "code",
   "execution_count": null,
   "metadata": {},
   "outputs": [],
   "source": [
    "alltime = []\n",
    "for i in tqdm(allquery[:500]):\n",
    "    s1 = time.time()\n",
    "    v = sbertmodel.encode(i, normalize_embeddings=True)\n",
    "    s1 = time.time() - s1\n",
    "    alltime.append(s1)\n",
    "np.mean(alltime)"
   ]
  },
  {
   "cell_type": "code",
   "execution_count": null,
   "metadata": {},
   "outputs": [],
   "source": [
    "alltime = []\n",
    "for i in tqdm(allquery[:500]):\n",
    "    s1 = time.time()\n",
    "    v = embd_func(model, tokenizer, [i])\n",
    "    s1 = time.time() - s1\n",
    "    alltime.append(s1)\n",
    "np.mean(alltime)"
   ]
  },
  {
   "cell_type": "code",
   "execution_count": null,
   "metadata": {},
   "outputs": [],
   "source": []
  },
  {
   "cell_type": "code",
   "execution_count": null,
   "metadata": {},
   "outputs": [],
   "source": [
    "sbert_test = sbertmodel.encode([\"你是谁\", \"你是谁1\"], normalize_embeddings=True)\n",
    "sbert_test.shape"
   ]
  },
  {
   "cell_type": "code",
   "execution_count": null,
   "metadata": {},
   "outputs": [],
   "source": [
    "np.allclose(onnx_test, sbert_test, atol=1e-3)"
   ]
  },
  {
   "cell_type": "code",
   "execution_count": null,
   "metadata": {},
   "outputs": [],
   "source": [
    "onnx_test"
   ]
  },
  {
   "cell_type": "code",
   "execution_count": null,
   "metadata": {},
   "outputs": [],
   "source": [
    "sbert_test"
   ]
  },
  {
   "cell_type": "code",
   "execution_count": 6,
   "metadata": {},
   "outputs": [
    {
     "data": {
      "text/plain": [
       "array([ 0.02434009, -0.02068553, -0.01256034])"
      ]
     },
     "execution_count": 6,
     "metadata": {},
     "output_type": "execute_result"
    }
   ],
   "source": [
    "import time\n",
    "import requests\n",
    "import numpy as np\n",
    "\n",
    "\n",
    "def test_online(text: str):\n",
    "    service_endpoint = \"http://10.136.0.64:7777/personal-homepage\"  # \"http://10.136.0.64:7779/personal-homepage\"  # 10.136.0.64\n",
    "    body = {\n",
    "        \"task\": \"embeddingv2\",\n",
    "        \"text\": text,\n",
    "    }\n",
    "\n",
    "    response = requests.post(\n",
    "        f\"{service_endpoint}\", headers={\"Content-Type\": \"application/json\"}, json=body\n",
    "    )\n",
    "    return np.array(json.loads(response.text))\n",
    "\n",
    "\n",
    "online_test = test_online(\"你是谁\")\n",
    "online_test[:3]"
   ]
  },
  {
   "cell_type": "code",
   "execution_count": 7,
   "metadata": {},
   "outputs": [
    {
     "name": "stderr",
     "output_type": "stream",
     "text": [
      "100%|██████████| 100/100 [00:05<00:00, 17.49it/s]\n"
     ]
    },
    {
     "data": {
      "text/plain": [
       "0.05678013801574707"
      ]
     },
     "execution_count": 7,
     "metadata": {},
     "output_type": "execute_result"
    }
   ],
   "source": [
    "from tqdm import tqdm\n",
    "\n",
    "alltime = []\n",
    "for i in tqdm(allquery[:100]):\n",
    "    s1 = time.time()\n",
    "    v = test_online(i)\n",
    "    s1 = time.time() - s1\n",
    "    alltime.append(s1)\n",
    "np.mean(alltime)"
   ]
  },
  {
   "cell_type": "code",
   "execution_count": 5,
   "metadata": {},
   "outputs": [
    {
     "name": "stderr",
     "output_type": "stream",
     "text": [
      "100%|██████████| 100/100 [00:07<00:00, 13.17it/s]\n"
     ]
    },
    {
     "data": {
      "text/plain": [
       "0.0755191707611084"
      ]
     },
     "execution_count": 5,
     "metadata": {},
     "output_type": "execute_result"
    }
   ],
   "source": [
    "def test_online_raw(text: str):\n",
    "    service_endpoint = \"http://10.136.0.64:7777/personal-homepage\"  # \"http://yongfeng.wml.weibo.com/mm-wb-ml-nlp-v2/personal-homepage\"  # \"http://10.136.0.64:7779/personal-homepage\"  # 10.136.0.64\n",
    "    body = {\n",
    "        \"task\": \"embedding\",\n",
    "        \"text\": text,\n",
    "    }\n",
    "\n",
    "    response = requests.post(\n",
    "        f\"{service_endpoint}\", headers={\"Content-Type\": \"application/json\"}, json=body\n",
    "    )\n",
    "    return np.array(json.loads(response.text))\n",
    "\n",
    "\n",
    "from tqdm import tqdm\n",
    "\n",
    "alltime = []\n",
    "for i in tqdm(allquery[:100]):\n",
    "    s1 = time.time()\n",
    "    v = test_online_raw(i)\n",
    "    s1 = time.time() - s1\n",
    "    alltime.append(s1)\n",
    "np.mean(alltime)"
   ]
  },
  {
   "cell_type": "code",
   "execution_count": null,
   "metadata": {},
   "outputs": [],
   "source": [
    "onnx_test[0, :3]"
   ]
  },
  {
   "cell_type": "code",
   "execution_count": null,
   "metadata": {},
   "outputs": [],
   "source": [
    "from tqdm import tqdm\n",
    "\n",
    "\n",
    "statusall = []\n",
    "for i in tqdm(allquery[:50]):\n",
    "    v = sbertmodel.encode(i, normalize_embeddings=True)\n",
    "    o = test_online(i)\n",
    "    status = np.allclose(v, o, atol=1e-3)\n",
    "    statusall.append(statusall)\n",
    "\n",
    "\n",
    "all(statusall)"
   ]
  },
  {
   "cell_type": "code",
   "execution_count": null,
   "metadata": {},
   "outputs": [],
   "source": [
    "# docker run -it --gpus all -p 7777:8080 -v /data2/homepage_ckpt_backup:/workspace/dev/wb_ml_nlp nlp-homepage-model:2024-02-02-15 bash"
   ]
  },
  {
   "cell_type": "code",
   "execution_count": 8,
   "metadata": {},
   "outputs": [
    {
     "data": {
      "text/plain": [
       "<coroutine object main5 at 0x7fcca8d90270>"
      ]
     },
     "execution_count": 8,
     "metadata": {},
     "output_type": "execute_result"
    }
   ],
   "source": [
    "import asyncio\n",
    "import datetime\n",
    "\n",
    "\n",
    "async def say_after(delay, what):\n",
    "    await asyncio.sleep(delay)\n",
    "    print(what)\n",
    "\n",
    "\n",
    "async def test_raw_online(query):\n",
    "    def test_online_raw(text: str):\n",
    "        service_endpoint = \"http://10.136.0.64:7777/personal-homepage\"  # \"http://yongfeng.wml.weibo.com/mm-wb-ml-nlp-v2/personal-homepage\"  # \"http://10.136.0.64:7779/personal-homepage\"  # 10.136.0.64\n",
    "        body = {\n",
    "            \"task\": \"embedding\",\n",
    "            \"text\": text,\n",
    "        }\n",
    "\n",
    "        response = requests.post(\n",
    "            f\"{service_endpoint}\",\n",
    "            headers={\"Content-Type\": \"application/json\"},\n",
    "            json=body,\n",
    "        )\n",
    "        return np.array(json.loads(response.text))\n",
    "\n",
    "    value = test_online_raw(query)\n",
    "    return value\n",
    "\n",
    "\n",
    "async def main5():\n",
    "    \"\"\"\n",
    "    将create_task拿到列表外面（变成了gather)\n",
    "    并且舍去列表推导式展开部分\n",
    "    :return:\n",
    "    \"\"\"\n",
    "    start_date = datetime.datetime.now()\n",
    "    print(f\"Start at {start_date:%Y-%m-%d %H:%M:%S}\")\n",
    "\n",
    "    await asyncio.gather(\n",
    "        *[\n",
    "            test_raw_online(q)\n",
    "            for q in allquery[:50]\n",
    "            # say_after(delay=delay, what=what)\n",
    "            # for delay, what in zip([1, 2, 3, 4], [\"hello\", \"world\", \"foo\", \"bar\"])\n",
    "        ]\n",
    "    )\n",
    "\n",
    "    end_date = datetime.datetime.now()\n",
    "    print(f\"finished at {end_date:%Y-%m-%d %H:%M:%S}\")\n",
    "    print(f\"total used time: {(end_date - start_date).seconds} s\")\n",
    "\n",
    "\n",
    "main5()"
   ]
  },
  {
   "cell_type": "code",
   "execution_count": null,
   "metadata": {},
   "outputs": [],
   "source": []
  }
 ],
 "metadata": {
  "kernelspec": {
   "display_name": "Python 3",
   "language": "python",
   "name": "python3"
  },
  "language_info": {
   "codemirror_mode": {
    "name": "ipython",
    "version": 3
   },
   "file_extension": ".py",
   "mimetype": "text/x-python",
   "name": "python",
   "nbconvert_exporter": "python",
   "pygments_lexer": "ipython3",
   "version": "3.10.13"
  }
 },
 "nbformat": 4,
 "nbformat_minor": 2
}
